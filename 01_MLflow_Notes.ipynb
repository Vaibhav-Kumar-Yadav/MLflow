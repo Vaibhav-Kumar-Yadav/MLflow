{
 "cells": [
  {
   "cell_type": "markdown",
   "metadata": {},
   "source": [
    "# Introduction to MLflow\n",
    "\n",
    "Welcome! This notebook is a comprehensive guide to using MLflow, especially for Machine Learning projects. MLflow provides powerful tools to manage the machine learning lifecycle effectively.\n",
    "\n",
    "## What is MLflow?\n",
    "\n",
    "MLflow is an open-source platform designed for managing the entire machine learning lifecycle. It's beneficial for handling complex workflows in Machine Learning projects due to its flexible design and integration capabilities.\n",
    "\n",
    "### Why is it useful for Machine Learning?\n",
    "\n",
    "- **Experimentation Needs**: ML projects require extensive experimentation, and MLflow helps track and log all research efforts efficiently.\n",
    "- **Model Complexity**: MLflow's features in model versioning and deployment simplify handling sophisticated models.\n",
    "- **Collaborative Development**: It facilitates seamless teamwork among data scientists, engineers, and stakeholders."
   ]
  },
  {
   "cell_type": "markdown",
   "metadata": {},
   "source": [
    "## Key Features and Benefits for Machine Learning\n",
    "\n",
    "### 1. Experiment Tracking\n",
    "MLflow’s tracking API captures complex experiments, including model parameters, versions, and outcomes.\n",
    "\n",
    "- **Benefits**:\n",
    "  - Simplifies experimentation and comparative analysis between models.\n",
    "  - Enhances reproducibility, a critical requirement in ML research.\n",
    "\n",
    "### 2. Projects\n",
    "The structured ML project format ensures consistency and reusability, necessary for iterative development.\n",
    "\n",
    "### 3. Models\n",
    "MLflow supports various deployment environments and formats, easing the deployment of ML solutions.\n",
    "\n",
    "- **Benefits**:\n",
    "  - Manages models through different lifecycle stages efficiently.\n",
    "  - Supports large-scale deployments on cloud platforms.\n",
    "\n",
    "### 4. Model Registry\n",
    "MLflow’s model registry acts as a central hub, managing model versions.\n",
    "\n",
    "- **Benefits**:\n",
    "  - Organizes the model lifecycle seamlessly.\n",
    "  - Facilitates integration with CI/CD pipelines, ideal for agile workflows."
   ]
  },
  {
   "cell_type": "markdown",
   "metadata": {},
   "source": [
    "## Architecture and Core Components\n",
    "\n",
    "MLflow’s architecture supports comprehensive ML workflows through:\n",
    "\n",
    "- **Tracking Server**: Handles comprehensive logs and metadata for ML experiments.\n",
    "- **Backend Store**: Saves metadata across experiments, optimizing accessibility and scalability.\n",
    "- **Artifact Store**: Manages larger artifacts like trained models and datasets used in ML projects."
   ]
  },
  {
   "cell_type": "markdown",
   "metadata": {},
   "source": [
    "# MLflow Feature Exploration: Experiment Tracking\n",
    "\n",
    "Experiment tracking is crucial for managing and optimizing ML experiments.\n",
    "\n",
    "## Experiment Tracking Overview\n",
    "\n",
    "Logging and visualizing parameters, metrics, and other data generated during machine learning experiments allows for:\n",
    "\n",
    "- **Comparing Different Models**: Easily compare various configurations and select the most effective model.\n",
    "- **Reproducibility**: Detailed logs ensure experiments can be reproduced reliably."
   ]
  },
  {
   "cell_type": "code",
   "execution_count": 8,
   "metadata": {},
   "outputs": [
    {
     "name": "stderr",
     "output_type": "stream",
     "text": [
      "f:\\01_Learning\\MLflow\\venv\\Lib\\site-packages\\sklearn\\utils\\validation.py:2732: UserWarning: X has feature names, but RandomForestClassifier was fitted without feature names\n",
      "  warnings.warn(\n",
      "f:\\01_Learning\\MLflow\\venv\\Lib\\site-packages\\mlflow\\types\\utils.py:452: UserWarning: Hint: Inferred schema contains integer column(s). Integer columns in Python cannot represent missing values. If your input data contains missing values at inference time, it will be encoded as floats and will cause a schema enforcement error. The best way to avoid this problem is to infer the model schema based on a realistic data sample (training dataset) that includes missing values. Alternatively, you can declare integer columns as doubles (float64) whenever these columns may have missing values. See `Handling Integers With Missing Values <https://www.mlflow.org/docs/latest/models.html#handling-integers-with-missing-values>`_ for more details.\n",
      "  warnings.warn(\n",
      "Downloading artifacts: 100%|██████████| 7/7 [00:00<00:00, 873.11it/s] "
     ]
    },
    {
     "name": "stdout",
     "output_type": "stream",
     "text": [
      "Run logged successfully with input example.\n"
     ]
    },
    {
     "name": "stderr",
     "output_type": "stream",
     "text": [
      "\n",
      "f:\\01_Learning\\MLflow\\venv\\Lib\\site-packages\\sklearn\\utils\\validation.py:2732: UserWarning: X has feature names, but RandomForestClassifier was fitted without feature names\n",
      "  warnings.warn(\n"
     ]
    }
   ],
   "source": [
    "import mlflow\n",
    "import mlflow.sklearn\n",
    "from sklearn.ensemble import RandomForestClassifier\n",
    "from sklearn.model_selection import train_test_split\n",
    "from sklearn.metrics import accuracy_score\n",
    "import numpy as np\n",
    "import pandas as pd\n",
    "\n",
    "# Generate some example data\n",
    "X, y = np.random.rand(100, 5), np.random.randint(0, 2, size=100)\n",
    "X_train, X_test, y_train, y_test = train_test_split(X, y, test_size=0.2, random_state=42)\n",
    "\n",
    "# Set up MLflow tracking\n",
    "mlflow.set_tracking_uri(\"sqlite:///mlruns.db\")\n",
    "mlflow.set_experiment(\"Machine_Learning_Experiment_Tracking\")\n",
    "\n",
    "# Parameters for logging\n",
    "params = {\"n_estimators\": 100, \"max_depth\": 5}\n",
    "\n",
    "with mlflow.start_run():\n",
    "    model = RandomForestClassifier(**params)\n",
    "    model.fit(X_train, y_train)\n",
    "    accuracy = accuracy_score(y_test, model.predict(X_test))\n",
    "\n",
    "    mlflow.log_params(params)\n",
    "    mlflow.log_metric(\"accuracy\", accuracy)\n",
    "    \n",
    "    # Create a DataFrame to serve as an input example\n",
    "    input_example = pd.DataFrame(X_train[:5], columns=[f\"feature_{i}\" for i in range(X.shape[1])])\n",
    "    \n",
    "    # Log the model with an input example\n",
    "    mlflow.sklearn.log_model(\n",
    "        model,\n",
    "        \"random_forest_model\",\n",
    "        input_example=input_example\n",
    "    )\n",
    "    \n",
    "    print(\"Run logged successfully with input example.\")"
   ]
  },
  {
   "cell_type": "markdown",
   "metadata": {},
   "source": [
    "# MLflow Feature Exploration: Model Management and Registry\n",
    "\n",
    "Managing complex machine learning models is fundamental. MLflow offers robust capabilities for this purpose.\n",
    "\n",
    "## Introduction to Model Management and Registry\n",
    "\n",
    "In ML, models undergo frequent updates and iterations. Effective management ensures:\n",
    "\n",
    "- **Version Control**: Track all iterations without losing historical data.\n",
    "- **Accessibility**: Models are accessible throughout their lifecycle.\n",
    "- **Deployment Readiness**: Manage transitions seamlessly from staging to production."
   ]
  },
  {
   "cell_type": "code",
   "execution_count": 10,
   "metadata": {},
   "outputs": [
    {
     "name": "stderr",
     "output_type": "stream",
     "text": [
      "2025/01/25 01:49:09 WARNING mlflow.models.model: Model logged without a signature and input example. Please set `input_example` parameter when logging the model to auto infer the model signature.\n"
     ]
    },
    {
     "name": "stdout",
     "output_type": "stream",
     "text": [
      "Model version 1 registered.\n",
      "Model transitioned to 'Staging' stage.\n"
     ]
    },
    {
     "name": "stderr",
     "output_type": "stream",
     "text": [
      "C:\\Users\\Z003RUYE\\AppData\\Local\\Temp\\ipykernel_2876\\387419272.py:42: FutureWarning: ``mlflow.tracking.client.MlflowClient.transition_model_version_stage`` is deprecated since 2.9.0. Model registry stages will be removed in a future major release. To learn more about the deprecation of model registry stages, see our migration guide here: https://mlflow.org/docs/latest/model-registry.html#migrating-from-stages\n",
      "  client.transition_model_version_stage(\n"
     ]
    }
   ],
   "source": [
    "import mlflow\n",
    "import mlflow.sklearn\n",
    "from mlflow.tracking import MlflowClient\n",
    "from sklearn.linear_model import LogisticRegression\n",
    "import numpy as np\n",
    "\n",
    "# Set tracking URI for MLflow\n",
    "mlflow.set_tracking_uri(\"sqlite:///mlruns.db\")\n",
    "mlflow.set_experiment(\"Machine_Learning_Model_Management\")\n",
    "\n",
    "# Example training data\n",
    "x_train = np.random.rand(100, 5)\n",
    "y_train = np.random.randint(0, 2, size=100)\n",
    "model = LogisticRegression().fit(x_train, y_train)\n",
    "\n",
    "# Start MLflow run\n",
    "with mlflow.start_run():\n",
    "    model_info = mlflow.sklearn.log_model(model, \"logistic_regression_model\")\n",
    "    run_id = mlflow.active_run().info.run_id\n",
    "\n",
    "# Register the model name if not yet registered\n",
    "model_name = \"Machine_Learning_Logistic_Regression\"\n",
    "client = MlflowClient()\n",
    "\n",
    "# Check if the model already exists\n",
    "try:\n",
    "    client.create_registered_model(model_name)\n",
    "except mlflow.exceptions.RestException as e:\n",
    "    # Model already exists\n",
    "    pass\n",
    "\n",
    "# Create a new version of the model\n",
    "model_version = client.create_model_version(\n",
    "    name=model_name,\n",
    "    source=model_info.model_uri,\n",
    "    run_id=run_id\n",
    ")\n",
    "\n",
    "print(f\"Model version {model_version.version} registered.\")\n",
    "\n",
    "# Transition the model version to 'Staging'\n",
    "client.transition_model_version_stage(\n",
    "    name=model_name,\n",
    "    version=model_version.version,\n",
    "    stage=\"Staging\"\n",
    ")\n",
    "\n",
    "print(\"Model transitioned to 'Staging' stage.\")"
   ]
  },
  {
   "cell_type": "markdown",
   "metadata": {},
   "source": [
    "# MLflow Feature Exploration: Performance Comparison\n",
    "\n",
    "Use MLflow to compare different models and strategies to find the best fit for your needs.\n",
    "\n",
    "## Importance of Performance Comparison\n",
    "\n",
    "Exploring multiple models and settings is key:\n",
    "\n",
    "- **Model Variability**: Different models (linear, ensemble) perform differently.\n",
    "- **Hyperparameter Tuning**: Systematic optimization affects performance significantly.\n",
    "- **Metric Monitoring**: Track metrics like accuracy and F1 score."
   ]
  },
  {
   "cell_type": "code",
   "execution_count": 11,
   "metadata": {},
   "outputs": [
    {
     "name": "stderr",
     "output_type": "stream",
     "text": [
      "2025/01/25 01:49:24 WARNING mlflow.models.model: Model logged without a signature and input example. Please set `input_example` parameter when logging the model to auto infer the model signature.\n"
     ]
    },
    {
     "name": "stdout",
     "output_type": "stream",
     "text": [
      "Logistic Regression - Accuracy: 0.55\n"
     ]
    },
    {
     "name": "stderr",
     "output_type": "stream",
     "text": [
      "2025/01/25 01:49:30 WARNING mlflow.models.model: Model logged without a signature and input example. Please set `input_example` parameter when logging the model to auto infer the model signature.\n"
     ]
    },
    {
     "name": "stdout",
     "output_type": "stream",
     "text": [
      "Random Forest - Accuracy: 0.4\n"
     ]
    }
   ],
   "source": [
    "import mlflow\n",
    "from sklearn.model_selection import train_test_split\n",
    "from sklearn.metrics import accuracy_score\n",
    "from sklearn.linear_model import LogisticRegression\n",
    "from sklearn.ensemble import RandomForestClassifier\n",
    "import numpy as np\n",
    "\n",
    "# Example data setup\n",
    "X, y = np.random.rand(100, 5), np.random.randint(0, 2, size=100)\n",
    "X_train, X_test, y_train, y_test = train_test_split(X, y, test_size=0.2, random_state=42)\n",
    "\n",
    "# Initialize models\n",
    "models = {\n",
    "    \"Logistic Regression\": LogisticRegression(),\n",
    "    \"Random Forest\": RandomForestClassifier(n_estimators=10)\n",
    "}\n",
    "\n",
    "mlflow.set_experiment(\"Machine_Learning_Model_Comparison\")\n",
    "\n",
    "for model_name, model in models.items():\n",
    "    with mlflow.start_run():\n",
    "        model.fit(X_train, y_train)\n",
    "        predictions = model.predict(X_test)\n",
    "        accuracy = accuracy_score(y_test, predictions)\n",
    "        mlflow.log_param(\"model_name\", model_name)\n",
    "        mlflow.log_metric(\"accuracy\", accuracy)\n",
    "        mlflow.sklearn.log_model(model, f\"models/{model_name.replace(' ', '_')}\")\n",
    "        print(f\"{model_name} - Accuracy: {accuracy}\")"
   ]
  },
  {
   "cell_type": "markdown",
   "metadata": {},
   "source": [
    "# MLflow Feature Exploration: Deployment of Models\n",
    "\n",
    "Deployment is essential for making models production-ready.\n",
    "\n",
    "## Why Deployment Matters\n",
    "\n",
    "That's where your finely tuned models are accessible in production, powering real-world applications.\n",
    "\n",
    "### Deployment Workflow with MLflow\n",
    "\n",
    "Steps include:\n",
    "\n",
    "- **Registering the Model**: Ensure your model is in MLflow's registry.\n",
    "- **Transitioning Stages**: Move the model from 'Staging' to 'Production'.\n",
    "- **Scalability Considerations**: Cloud deployments manage larger traffic efficiently."
   ]
  },
  {
   "cell_type": "code",
   "execution_count": 12,
   "metadata": {},
   "outputs": [
    {
     "name": "stdout",
     "output_type": "stream",
     "text": [
      "Model version 1 of Machine_Learning_Logistic_Regression transitioned to 'Production'.\n"
     ]
    },
    {
     "name": "stderr",
     "output_type": "stream",
     "text": [
      "C:\\Users\\Z003RUYE\\AppData\\Local\\Temp\\ipykernel_2876\\1548021523.py:7: FutureWarning: ``mlflow.tracking.client.MlflowClient.transition_model_version_stage`` is deprecated since 2.9.0. Model registry stages will be removed in a future major release. To learn more about the deprecation of model registry stages, see our migration guide here: https://mlflow.org/docs/latest/model-registry.html#migrating-from-stages\n",
      "  client.transition_model_version_stage(\n"
     ]
    }
   ],
   "source": [
    "from mlflow.tracking import MlflowClient\n",
    "\n",
    "model_name = \"Machine_Learning_Logistic_Regression\"\n",
    "client = MlflowClient()\n",
    "\n",
    "model_version = 1  # Make sure this matches your registered version\n",
    "client.transition_model_version_stage(\n",
    "    name=model_name,\n",
    "    version=model_version,\n",
    "    stage=\"Production\"\n",
    ")\n",
    "\n",
    "print(f\"Model version {model_version} of {model_name} transitioned to 'Production'.\")"
   ]
  },
  {
   "cell_type": "markdown",
   "metadata": {},
   "source": [
    "# MLflow Feature Exploration: Model Inferencing\n",
    "\n",
    "Inference is where we use our production-ready models to make predictions on new data. This is a crucial step in realizing the value of machine learning models in practical applications."
   ]
  },
  {
   "cell_type": "code",
   "execution_count": 13,
   "metadata": {},
   "outputs": [
    {
     "name": "stdout",
     "output_type": "stream",
     "text": [
      "Loading production model version 1 of 'Machine_Learning_Logistic_Regression' for inference...\n",
      "Predictions: [1 0 1 1 0]\n"
     ]
    },
    {
     "name": "stderr",
     "output_type": "stream",
     "text": [
      "f:\\01_Learning\\MLflow\\venv\\Lib\\site-packages\\sklearn\\utils\\validation.py:2732: UserWarning: X has feature names, but LogisticRegression was fitted without feature names\n",
      "  warnings.warn(\n"
     ]
    }
   ],
   "source": [
    "import mlflow.pyfunc\n",
    "import numpy as np\n",
    "import pandas as pd\n",
    "\n",
    "# Set the tracking URI to ensure access to the correct model\n",
    "mlflow.set_tracking_uri(\"sqlite:///mlruns.db\")\n",
    "\n",
    "# Define the model name and version\n",
    "model_name = \"Machine_Learning_Logistic_Regression\"\n",
    "model_version = 1  # Ensure this matches the 'Production' version\n",
    "\n",
    "# Load the production model\n",
    "print(f\"Loading production model version {model_version} of '{model_name}' for inference...\")\n",
    "model = mlflow.pyfunc.load_model(model_uri=f\"models:/{model_name}/{model_version}\")\n",
    "\n",
    "# Create a sample input for inference\n",
    "sample_input = pd.DataFrame(np.random.rand(5, 5), columns=[f\"feature_{i}\" for i in range(5)])\n",
    "\n",
    "# Perform inference\n",
    "predictions = model.predict(sample_input)\n",
    "\n",
    "print(f\"Predictions: {predictions}\")"
   ]
  }
 ],
 "metadata": {
  "kernelspec": {
   "display_name": "venv",
   "language": "python",
   "name": "python3"
  },
  "language_info": {
   "codemirror_mode": {
    "name": "ipython",
    "version": 3
   },
   "file_extension": ".py",
   "mimetype": "text/x-python",
   "name": "python",
   "nbconvert_exporter": "python",
   "pygments_lexer": "ipython3",
   "version": "3.11.9"
  }
 },
 "nbformat": 4,
 "nbformat_minor": 2
}
