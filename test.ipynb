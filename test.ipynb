{
 "cells": [
  {
   "cell_type": "code",
   "execution_count": 1,
   "metadata": {},
   "outputs": [],
   "source": [
    "import mlflow\n",
    "mlflow.set_tracking_uri(\"sqlite:///mlruns.db\")"
   ]
  },
  {
   "cell_type": "code",
   "execution_count": 3,
   "metadata": {},
   "outputs": [
    {
     "name": "stdout",
     "output_type": "stream",
     "text": [
      "Run UUID: f80ebcf768c74e5fbda76eb0f669290d\n"
     ]
    }
   ],
   "source": [
    "import mlflow\n",
    "\n",
    "mlflow.set_experiment(\"Test_Experiment\")\n",
    "\n",
    "with mlflow.start_run() as run:\n",
    "    mlflow.log_param(\"param1\", 6)\n",
    "    mlflow.log_metric(\"accuracy\", 0.88)\n",
    "\n",
    "print(f\"Run UUID: {run.info.run_id}\")"
   ]
  },
  {
   "cell_type": "code",
   "execution_count": null,
   "metadata": {},
   "outputs": [],
   "source": [
    "import mlflow\n",
    "\n",
    "mlflow.set_experiment(\"Test_Experiment2\")\n",
    "\n",
    "with mlflow.start_run() as run:\n",
    "    mlflow.log_param(\"param1\", 7)\n",
    "    mlflow.log_metric(\"accuracy\", 0.98)\n",
    "\n",
    "print(f\"Run UUID: {run.info.run_id}\")"
   ]
  }
 ],
 "metadata": {
  "kernelspec": {
   "display_name": "venv",
   "language": "python",
   "name": "python3"
  },
  "language_info": {
   "codemirror_mode": {
    "name": "ipython",
    "version": 3
   },
   "file_extension": ".py",
   "mimetype": "text/x-python",
   "name": "python",
   "nbconvert_exporter": "python",
   "pygments_lexer": "ipython3",
   "version": "3.11.9"
  }
 },
 "nbformat": 4,
 "nbformat_minor": 2
}
